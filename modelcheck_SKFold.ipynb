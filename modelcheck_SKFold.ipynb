{
  "nbformat": 4,
  "nbformat_minor": 0,
  "metadata": {
    "accelerator": "GPU",
    "colab": {
      "name": "kfold checking last.ipynb",
      "provenance": [],
      "collapsed_sections": []
    },
    "kernelspec": {
      "display_name": "Python 3",
      "name": "python3"
    },
    "language_info": {
      "name": "python"
    }
  },
  "cells": [
    {
      "cell_type": "code",
      "metadata": {
        "id": "Y9ngAo8rwDEh",
        "colab": {
          "base_uri": "https://localhost:8080/"
        },
        "outputId": "db2e503e-7776-4c97-ab0c-8b36e3cadb99"
      },
      "source": [
        "!git clone https://github.com/BenedictusKent/GarbageClassification.git"
      ],
      "execution_count": null,
      "outputs": [
        {
          "output_type": "stream",
          "text": [
            "Cloning into 'temp'...\n",
            "remote: Enumerating objects: 1769, done.\u001b[K\n",
            "remote: Counting objects: 100% (106/106), done.\u001b[K\n",
            "remote: Compressing objects: 100% (99/99), done.\u001b[K\n",
            "remote: Total 1769 (delta 6), reused 106 (delta 6), pack-reused 1663\u001b[K\n",
            "Receiving objects: 100% (1769/1769), 737.60 MiB | 43.52 MiB/s, done.\n",
            "Resolving deltas: 100% (6/6), done.\n",
            "Checking out files: 100% (1711/1711), done.\n"
          ],
          "name": "stdout"
        }
      ]
    },
    {
      "cell_type": "code",
      "metadata": {
        "id": "rpyJEoLcwGFh",
        "colab": {
          "base_uri": "https://localhost:8080/"
        },
        "outputId": "b912736a-69bb-428c-f59f-6ab63490109a"
      },
      "source": [
        "from google.colab import drive\n",
        "drive.mount('/content/gdrive')"
      ],
      "execution_count": null,
      "outputs": [
        {
          "output_type": "stream",
          "text": [
            "Mounted at /content/gdrive\n"
          ],
          "name": "stdout"
        }
      ]
    },
    {
      "cell_type": "code",
      "metadata": {
        "id": "Zho_dUUbwMMB"
      },
      "source": [
        "import os\n",
        "import cv2\n",
        "import random\n",
        "import numpy as np\n",
        "from PIL import Image\n",
        "import tensorflow as tf\n",
        "from tensorflow import keras\n",
        "import matplotlib.pyplot as plt\n",
        "from sklearn.model_selection import StratifiedKFold"
      ],
      "execution_count": null,
      "outputs": []
    },
    {
      "cell_type": "code",
      "metadata": {
        "id": "MGWfYTRZyE14"
      },
      "source": [
        "def create_dataset(dir, label, train, test):\n",
        "    temp = []\n",
        "    count = 0\n",
        "    for pics in os.listdir(dir):\n",
        "        img = Image.open(os.path.join(dir, pics))\n",
        "        img = img.resize((224,224))\n",
        "        temp.append([img, label])       # using int: sparse categorical\n",
        "        count += 1\n",
        "    length = int(count * 0.1)\n",
        "    train += temp[length:]\n",
        "    test += temp[:length]\n",
        "    print(str(folder) + \"\\t:\\t\" + str(count))"
      ],
      "execution_count": null,
      "outputs": []
    },
    {
      "cell_type": "code",
      "metadata": {
        "id": "OhiBL155yJof",
        "colab": {
          "base_uri": "https://localhost:8080/"
        },
        "outputId": "6eee5b2b-750c-4f5d-dbe7-40e525df7ebb"
      },
      "source": [
        "TEST = []\n",
        "TEST.clear()\n",
        "TRAINVAL = []\n",
        "TRAINVAL.clear()\n",
        "\n",
        "path = \"/content/GarbageClassification/img/own\"\n",
        "for folder in os.listdir(path):\n",
        "    count = 0\n",
        "    dir = os.path.join(path, folder)\n",
        "    if \"trash\" in folder:\n",
        "        create_dataset(dir, 4, TRAINVAL, TEST)\n",
        "    elif \"glass\" in folder:\n",
        "        create_dataset(dir, 0, TRAINVAL, TEST)\n",
        "    elif \"metal\" in folder:\n",
        "        create_dataset(dir, 1, TRAINVAL, TEST)\n",
        "    elif \"paper\" in folder:\n",
        "        create_dataset(dir, 2, TRAINVAL, TEST)\n",
        "    elif \"plastic\" in folder:\n",
        "        create_dataset(dir, 3, TRAINVAL, TEST)\n",
        "\n",
        "print(\"\\nTRAINVAL:\", len(TRAINVAL))\n",
        "print(\"TEST:\", len(TEST))"
      ],
      "execution_count": null,
      "outputs": [
        {
          "output_type": "stream",
          "text": [
            "plastic\t:\t104\n",
            "plastic\t:\t17\n",
            "plastic\t:\t182\n",
            "plastic 0\n",
            "paper\t:\t453\n",
            "paper\t:\t119\n",
            "paper\t:\t98\n",
            "paper 0\n",
            "trash\t:\t318\n",
            "glass\t:\t136\n",
            "glass\t:\t3\n",
            "glass 0\n",
            "metal\t:\t154\n",
            "metal\t:\t120\n",
            "metal 0\n",
            "\n",
            "TRAINVAL: 1539\n",
            "TEST: 165\n"
          ],
          "name": "stdout"
        }
      ]
    },
    {
      "cell_type": "code",
      "metadata": {
        "id": "d1OhYENazZBx",
        "colab": {
          "base_uri": "https://localhost:8080/"
        },
        "outputId": "8e4d246f-12a0-4ca9-81f2-f4d7b5992bf0"
      },
      "source": [
        "added = []\n",
        "added.clear()\n",
        "for i in range(len(TRAINVAL)):\n",
        "    img = TRAINVAL[i][0]\n",
        "    # counter-clockwise rotation\n",
        "    counter = img.rotate(random.randint(30,70))\n",
        "    counter = np.asarray(counter)\n",
        "    added.append([counter, TRAINVAL[i][1]])\n",
        "    # clockwise rotation\n",
        "    clockwise = img.rotate(-1 * random.randint(30,70))\n",
        "    clockwise = np.asarray(clockwise)\n",
        "    added.append([clockwise, TRAINVAL[i][1]])\n",
        "    # brighter\n",
        "    img = np.asarray(img)\n",
        "    bright = tf.image.adjust_brightness(img, 0.2)\n",
        "    bright = np.asarray(bright)\n",
        "    added.append([bright, TRAINVAL[i][1]])\n",
        "    # darker\n",
        "    dark = tf.image.adjust_brightness(img, -0.2)\n",
        "    dark = np.asarray(dark)\n",
        "    added.append([dark, TRAINVAL[i][1]])\n",
        "    # hue\n",
        "    add = tf.image.adjust_hue(img, (random.randint(2,5)/10))\n",
        "    add = np.asarray(add)\n",
        "    added.append([add, TRAINVAL[i][1]])\n",
        "\n",
        "added = np.asarray(added)\n",
        "\n",
        "for i in range(len(TRAINVAL)):\n",
        "    temp = TRAINVAL[i][0]\n",
        "    temp = np.asarray(temp)\n",
        "    TRAINVAL[i][0] = temp\n",
        "\n",
        "for i in range(len(TEST)):\n",
        "    temp = TEST[i][0]\n",
        "    temp = np.asarray(temp)\n",
        "    TEST[i][0] = temp\n",
        "\n",
        "TRAINVAL = np.asarray(TRAINVAL)\n",
        "TEST = np.asarray(TEST)\n",
        "\n",
        "# add augmented data to training data and shuffle\n",
        "print(TRAINVAL.shape, added.shape)\n",
        "TRAINVAL = np.concatenate((TRAINVAL, added))\n",
        "added = np.zeros(2)\n",
        "print(TRAINVAL.shape)\n",
        "np.random.shuffle(TRAINVAL)"
      ],
      "execution_count": null,
      "outputs": [
        {
          "output_type": "stream",
          "text": [
            "(1539, 2) (7695, 2)\n",
            "(9234, 2)\n"
          ],
          "name": "stdout"
        },
        {
          "output_type": "stream",
          "text": [
            "/usr/local/lib/python3.7/dist-packages/numpy/core/_asarray.py:83: VisibleDeprecationWarning: Creating an ndarray from ragged nested sequences (which is a list-or-tuple of lists-or-tuples-or ndarrays with different lengths or shapes) is deprecated. If you meant to do this, you must specify 'dtype=object' when creating the ndarray\n",
            "  return array(a, dtype, copy=False, order=order)\n"
          ],
          "name": "stderr"
        }
      ]
    },
    {
      "cell_type": "code",
      "metadata": {
        "id": "u0zA2-USzmiE",
        "colab": {
          "base_uri": "https://localhost:8080/"
        },
        "outputId": "711100c5-27b5-4858-b568-8ec75c3c7159"
      },
      "source": [
        "# separate feature and label\n",
        "feature = []\n",
        "label = []\n",
        "for i, j in TRAINVAL:\n",
        "    feature.append(i)\n",
        "    label.append(j)\n",
        "feature = np.asarray(feature)\n",
        "label = np.asarray(label)\n",
        "TRAINVAL = []\n",
        "\n",
        "xtest = []\n",
        "ytest = []\n",
        "for i, j in TEST:\n",
        "    xtest.append(i)\n",
        "    ytest.append(j)\n",
        "xtest = np.asarray(xtest)\n",
        "ytest = np.asarray(ytest)\n",
        "TEST = []       # clear array\n",
        "\n",
        "print(feature.shape, label.shape)\n",
        "print(xtest.shape, ytest.shape)"
      ],
      "execution_count": null,
      "outputs": [
        {
          "output_type": "stream",
          "text": [
            "(9234, 224, 224, 3) (9234,)\n",
            "(165, 224, 224, 3) (165,)\n"
          ],
          "name": "stdout"
        }
      ]
    },
    {
      "cell_type": "code",
      "metadata": {
        "id": "20diZdkPz21B",
        "colab": {
          "base_uri": "https://localhost:8080/"
        },
        "outputId": "ff6a655c-112c-4a55-8095-c202ca48a4c9"
      },
      "source": [
        "resnet = tf.keras.applications.ResNet50(\n",
        "    include_top = False, \n",
        "    weights = 'imagenet',\n",
        "    input_shape = (224,224,3)\n",
        ")\n",
        "\n",
        "kf = StratifiedKFold(5, shuffle=True, random_state=8)\n",
        "fold = 0\n",
        "\n",
        "for train, val in kf.split(feature, label):\n",
        "    fold += 1\n",
        "    print(\"Fold #\" + str(fold))\n",
        "\n",
        "    xtrain = feature[train]\n",
        "    ytrain = label[train]\n",
        "    xval = feature[val]\n",
        "    yval = label[val]\n",
        "\n",
        "    xtrain = np.asarray(xtrain)\n",
        "    ytrain = np.asarray(ytrain)\n",
        "    xval = np.asarray(xval)\n",
        "    yval = np.asarray(yval)\n",
        "\n",
        "    model = tf.keras.models.Sequential()\n",
        "    model.add(resnet)\n",
        "    model.add(tf.keras.layers.GlobalAveragePooling2D())\n",
        "    model.add(tf.keras.layers.Dense(1024, activation='relu'))\n",
        "    model.add(tf.keras.layers.Dense(5, activation='softmax'))\n",
        "\n",
        "    model.compile(\n",
        "        optimizer = tf.keras.optimizers.Adam(learning_rate=0.00001), \n",
        "        loss = 'sparse_categorical_crossentropy', \n",
        "        metrics = ['accuracy']\n",
        "    )\n",
        "\n",
        "    callback = tf.keras.callbacks.EarlyStopping(monitor='val_loss', mode='min', verbose=0, restore_best_weights=True, patience=3)\n",
        "\n",
        "    history = model.fit(xtrain, ytrain, \n",
        "                        batch_size=32, \n",
        "                        epochs=30,\n",
        "                        verbose=0,\n",
        "                        callbacks=callback, \n",
        "                        validation_data=(xval,yval))\n",
        "\n",
        "    result = model.evaluate(xtest, ytest)\n",
        "    \n",
        "    # save model if it's greater than 95% accuracy\n",
        "    # if(result[1] > 0.95):\n",
        "    #     path = \"/content/gdrive/MyDrive/model/mobilenet-{}.h5\".format(fold)\n",
        "    #     model.save(path)\n",
        "\n",
        "    tf.keras.backend.clear_session()"
      ],
      "execution_count": null,
      "outputs": [
        {
          "output_type": "stream",
          "text": [
            "Downloading data from https://storage.googleapis.com/tensorflow/keras-applications/mobilenet/mobilenet_1_0_224_tf_no_top.h5\n",
            "17227776/17225924 [==============================] - 0s 0us/step\n",
            "Fold #1\n",
            "6/6 [==============================] - 0s 71ms/step - loss: 0.1949 - accuracy: 0.9273\n",
            "Fold #2\n",
            "6/6 [==============================] - 0s 36ms/step - loss: 0.2123 - accuracy: 0.9394\n",
            "Fold #3\n",
            "6/6 [==============================] - 0s 37ms/step - loss: 0.2186 - accuracy: 0.9394\n",
            "Fold #4\n",
            "6/6 [==============================] - 0s 28ms/step - loss: 0.2207 - accuracy: 0.9273\n",
            "Fold #5\n",
            "6/6 [==============================] - 0s 34ms/step - loss: 0.2761 - accuracy: 0.9212\n"
          ],
          "name": "stdout"
        }
      ]
    },
    {
      "cell_type": "code",
      "metadata": {
        "id": "8RVTv5lBQsyb"
      },
      "source": [
        ""
      ],
      "execution_count": null,
      "outputs": []
    }
  ]
}